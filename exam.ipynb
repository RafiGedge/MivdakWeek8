{
 "cells": [
  {
   "metadata": {},
   "cell_type": "code",
   "source": "",
   "id": "6a9e9f5945c1b169",
   "outputs": [],
   "execution_count": null
  },
  {
   "metadata": {},
   "cell_type": "markdown",
   "source": [
    "# Exercise: Exploratory Data Analysis with Pandas\n",
    "## Instructions\n",
    "1. Data Collection\n",
    "    - Search and collect data on the following: (1993 - 2023)\n",
    "        - Israel interest tares\n",
    "        - US interest rates\n",
    "        - USD to ILS exchange rates \n",
    "    - For each dataset, create a pandas DataFrame with the following columns:\n",
    "        - Year\n",
    "        - Month\n",
    "        - Current_Rate (Interest rate or exchange rate for that month)\n",
    "        - Change_From_Last_Month (Difference in Current_Rate from the previous month)\n",
    "        - Optional: You may include additional columns if you find them useful (e.g., Change_Percentage, Date).\n",
    "\n"
   ],
   "id": "2b8e938eb34b0315"
  },
  {
   "metadata": {
    "ExecuteTime": {
     "end_time": "2024-11-11T13:17:39.393243Z",
     "start_time": "2024-11-11T13:17:37.422778Z"
    }
   },
   "cell_type": "code",
   "source": "import pandas as pd",
   "id": "17a7b132e53c5faa",
   "outputs": [],
   "execution_count": 1
  },
  {
   "metadata": {
    "ExecuteTime": {
     "end_time": "2024-11-11T13:18:02.837118Z",
     "start_time": "2024-11-11T13:18:02.805571Z"
    }
   },
   "cell_type": "code",
   "source": [
    "df_IL_rates = pd.read_json('DateFiles/israeli_rates.json')\n",
    "df_IL_rates['time'] = pd.to_datetime(df_IL_rates['time'])\n",
    "df_IL_rates['Year'] = df_IL_rates['time'].dt.year\n",
    "df_IL_rates['Month'] = df_IL_rates['time'].dt.month\n",
    "df_IL_rates.rename(columns={'percent': 'Current_Rate'}, inplace=True)\n",
    "df_IL_rates['Change_From_Last_Month'] = df_IL_rates['Current_Rate'].diff()\n",
    "df_IL_rates = df_IL_rates[['Year', 'Month', 'Current_Rate', 'Change_From_Last_Month']]"
   ],
   "id": "8fb38157aa6333f3",
   "outputs": [],
   "execution_count": 2
  },
  {
   "metadata": {
    "ExecuteTime": {
     "end_time": "2024-11-11T13:18:03.551883Z",
     "start_time": "2024-11-11T13:18:03.520970Z"
    }
   },
   "cell_type": "code",
   "source": [
    "df_US_rates = pd.read_csv('DateFiles/USD_ILS Historical Data.csv')\n",
    "df_US_rates['Date'] = pd.to_datetime(df_US_rates['Date'])\n",
    "df_US_rates['Year'] = df_US_rates['Date'].dt.year\n",
    "df_US_rates['Month'] = df_US_rates['Date'].dt.month\n",
    "df_US_rates.rename(columns={'Price': 'Current_Rate'}, inplace=True)\n",
    "df_US_rates['Change_From_Last_Month'] = df_US_rates['Current_Rate'].diff()\n",
    "df_US_rates = df_US_rates[['Year', 'Month', 'Current_Rate', 'Change_From_Last_Month']]"
   ],
   "id": "527a48fa35b1d643",
   "outputs": [],
   "execution_count": 3
  },
  {
   "metadata": {
    "ExecuteTime": {
     "end_time": "2024-11-11T13:18:04.180057Z",
     "start_time": "2024-11-11T13:18:04.162020Z"
    }
   },
   "cell_type": "code",
   "source": [
    "df_ex_DTS = pd.read_csv('DateFiles/FEDFUNDS.csv')\n",
    "df_ex_DTS['DATE'] = pd.to_datetime(df_ex_DTS.DATE)\n",
    "df_ex_DTS['Year'] = df_ex_DTS['DATE'].dt.year\n",
    "df_ex_DTS['Month'] = df_ex_DTS['DATE'].dt.month\n",
    "df_ex_DTS.rename(columns={'FEDFUNDS': 'Current_Rate'}, inplace=True)\n",
    "df_ex_DTS['Change_From_Last_Month'] = df_ex_DTS['Current_Rate'].diff()\n",
    "df_ex_DTS = df_ex_DTS[['Year', 'Month', 'Current_Rate', 'Change_From_Last_Month']]"
   ],
   "id": "77793592416b449c",
   "outputs": [],
   "execution_count": 4
  },
  {
   "metadata": {},
   "cell_type": "markdown",
   "source": [
    "## Part A: Single DataFrame Analysis \n",
    "1. Display the first 5 rows of the US interest rates DataFrame.\n",
    "\n",
    "2. Calculate the average Israeli interest rate over the period covered by your data.\n",
    "\n",
    "3. Find the month and year when the USD to ILS exchange rate had the highest increase from the previous month.\n",
    "\n",
    "4. Determine the total number of months where the US interest rate decreased compared to the previous month.\n",
    "\n",
    "5. Add a new column to the Israeli interest rates DataFrame called Change_Percentage, representing the percentage change from the previous month.\n",
    "\n"
   ],
   "id": "71323c7318598fbb"
  },
  {
   "metadata": {
    "ExecuteTime": {
     "end_time": "2024-11-11T13:18:08.207830Z",
     "start_time": "2024-11-11T13:18:08.201722Z"
    }
   },
   "cell_type": "code",
   "source": [
    "# A - 1\n",
    "df_US_rates.head()"
   ],
   "id": "399887d7fba8803a",
   "outputs": [
    {
     "data": {
      "text/plain": [
       "   Year  Month  Current_Rate  Change_From_Last_Month\n",
       "0  2023     12        3.6008                     NaN\n",
       "1  2023     11        3.7231                  0.1223\n",
       "2  2023     10        4.0369                  0.3138\n",
       "3  2023      9        3.8080                 -0.2289\n",
       "4  2023      8        3.8009                 -0.0071"
      ],
      "text/html": [
       "<div>\n",
       "<style scoped>\n",
       "    .dataframe tbody tr th:only-of-type {\n",
       "        vertical-align: middle;\n",
       "    }\n",
       "\n",
       "    .dataframe tbody tr th {\n",
       "        vertical-align: top;\n",
       "    }\n",
       "\n",
       "    .dataframe thead th {\n",
       "        text-align: right;\n",
       "    }\n",
       "</style>\n",
       "<table border=\"1\" class=\"dataframe\">\n",
       "  <thead>\n",
       "    <tr style=\"text-align: right;\">\n",
       "      <th></th>\n",
       "      <th>Year</th>\n",
       "      <th>Month</th>\n",
       "      <th>Current_Rate</th>\n",
       "      <th>Change_From_Last_Month</th>\n",
       "    </tr>\n",
       "  </thead>\n",
       "  <tbody>\n",
       "    <tr>\n",
       "      <th>0</th>\n",
       "      <td>2023</td>\n",
       "      <td>12</td>\n",
       "      <td>3.6008</td>\n",
       "      <td>NaN</td>\n",
       "    </tr>\n",
       "    <tr>\n",
       "      <th>1</th>\n",
       "      <td>2023</td>\n",
       "      <td>11</td>\n",
       "      <td>3.7231</td>\n",
       "      <td>0.1223</td>\n",
       "    </tr>\n",
       "    <tr>\n",
       "      <th>2</th>\n",
       "      <td>2023</td>\n",
       "      <td>10</td>\n",
       "      <td>4.0369</td>\n",
       "      <td>0.3138</td>\n",
       "    </tr>\n",
       "    <tr>\n",
       "      <th>3</th>\n",
       "      <td>2023</td>\n",
       "      <td>9</td>\n",
       "      <td>3.8080</td>\n",
       "      <td>-0.2289</td>\n",
       "    </tr>\n",
       "    <tr>\n",
       "      <th>4</th>\n",
       "      <td>2023</td>\n",
       "      <td>8</td>\n",
       "      <td>3.8009</td>\n",
       "      <td>-0.0071</td>\n",
       "    </tr>\n",
       "  </tbody>\n",
       "</table>\n",
       "</div>"
      ]
     },
     "execution_count": 6,
     "metadata": {},
     "output_type": "execute_result"
    }
   ],
   "execution_count": 6
  },
  {
   "metadata": {
    "ExecuteTime": {
     "end_time": "2024-11-11T13:18:08.261164Z",
     "start_time": "2024-11-11T13:18:08.255258Z"
    }
   },
   "cell_type": "code",
   "source": [
    "# A - 2\n",
    "average_IL_rates = df_IL_rates.Current_Rate.mean()\n",
    "print(average_IL_rates)"
   ],
   "id": "91d022cc344514de",
   "outputs": [
    {
     "name": "stdout",
     "output_type": "stream",
     "text": [
      "4.7612215909090905\n"
     ]
    }
   ],
   "execution_count": 7
  },
  {
   "metadata": {
    "ExecuteTime": {
     "end_time": "2024-11-11T13:18:09.982539Z",
     "start_time": "2024-11-11T13:18:09.976972Z"
    }
   },
   "cell_type": "code",
   "source": [
    "# A - 3\n",
    "max_ex_DTS_index = df_ex_DTS['Change_From_Last_Month'].idxmax()\n",
    "year = df_ex_DTS.loc[max_ex_DTS_index, 'Year']\n",
    "month = df_ex_DTS.loc[max_ex_DTS_index, 'Month']\n",
    "change = df_ex_DTS.loc[max_ex_DTS_index, 'Change_From_Last_Month']\n",
    "print(f'date: {month}-{year}\\nchange: {change}')\n"
   ],
   "id": "c29c363cd4e9a279",
   "outputs": [
    {
     "name": "stdout",
     "output_type": "stream",
     "text": [
      "date: 11-2022\n",
      "change: 0.6999999999999997\n"
     ]
    }
   ],
   "execution_count": 8
  },
  {
   "metadata": {
    "ExecuteTime": {
     "end_time": "2024-11-11T13:18:11.097789Z",
     "start_time": "2024-11-11T13:18:11.092861Z"
    }
   },
   "cell_type": "code",
   "source": [
    "# A - 4\n",
    "sum_months_US_rates = df_US_rates[df_US_rates['Change_From_Last_Month'] < 0].shape[0]\n",
    "print(sum_months_US_rates)"
   ],
   "id": "c4c8ec122d04672",
   "outputs": [
    {
     "name": "stdout",
     "output_type": "stream",
     "text": [
      "179\n"
     ]
    }
   ],
   "execution_count": 9
  },
  {
   "metadata": {
    "ExecuteTime": {
     "end_time": "2024-11-11T13:18:13.828256Z",
     "start_time": "2024-11-11T13:18:13.818096Z"
    }
   },
   "cell_type": "code",
   "source": [
    "# A - 5\n",
    "df_IL_rates['Change_Percentage'] = df_IL_rates['Current_Rate'].pct_change()\n",
    "df_IL_rates.head()"
   ],
   "id": "49115d5dbff52532",
   "outputs": [
    {
     "data": {
      "text/plain": [
       "   Year  Month  Current_Rate  Change_From_Last_Month  Change_Percentage\n",
       "0  1994      9          14.0                     NaN                NaN\n",
       "1  1994     10          15.5                     1.5           0.107143\n",
       "2  1994     11          15.5                     0.0           0.000000\n",
       "3  1994     12          17.0                     1.5           0.096774\n",
       "4  1995      1          17.0                     0.0           0.000000"
      ],
      "text/html": [
       "<div>\n",
       "<style scoped>\n",
       "    .dataframe tbody tr th:only-of-type {\n",
       "        vertical-align: middle;\n",
       "    }\n",
       "\n",
       "    .dataframe tbody tr th {\n",
       "        vertical-align: top;\n",
       "    }\n",
       "\n",
       "    .dataframe thead th {\n",
       "        text-align: right;\n",
       "    }\n",
       "</style>\n",
       "<table border=\"1\" class=\"dataframe\">\n",
       "  <thead>\n",
       "    <tr style=\"text-align: right;\">\n",
       "      <th></th>\n",
       "      <th>Year</th>\n",
       "      <th>Month</th>\n",
       "      <th>Current_Rate</th>\n",
       "      <th>Change_From_Last_Month</th>\n",
       "      <th>Change_Percentage</th>\n",
       "    </tr>\n",
       "  </thead>\n",
       "  <tbody>\n",
       "    <tr>\n",
       "      <th>0</th>\n",
       "      <td>1994</td>\n",
       "      <td>9</td>\n",
       "      <td>14.0</td>\n",
       "      <td>NaN</td>\n",
       "      <td>NaN</td>\n",
       "    </tr>\n",
       "    <tr>\n",
       "      <th>1</th>\n",
       "      <td>1994</td>\n",
       "      <td>10</td>\n",
       "      <td>15.5</td>\n",
       "      <td>1.5</td>\n",
       "      <td>0.107143</td>\n",
       "    </tr>\n",
       "    <tr>\n",
       "      <th>2</th>\n",
       "      <td>1994</td>\n",
       "      <td>11</td>\n",
       "      <td>15.5</td>\n",
       "      <td>0.0</td>\n",
       "      <td>0.000000</td>\n",
       "    </tr>\n",
       "    <tr>\n",
       "      <th>3</th>\n",
       "      <td>1994</td>\n",
       "      <td>12</td>\n",
       "      <td>17.0</td>\n",
       "      <td>1.5</td>\n",
       "      <td>0.096774</td>\n",
       "    </tr>\n",
       "    <tr>\n",
       "      <th>4</th>\n",
       "      <td>1995</td>\n",
       "      <td>1</td>\n",
       "      <td>17.0</td>\n",
       "      <td>0.0</td>\n",
       "      <td>0.000000</td>\n",
       "    </tr>\n",
       "  </tbody>\n",
       "</table>\n",
       "</div>"
      ]
     },
     "execution_count": 10,
     "metadata": {},
     "output_type": "execute_result"
    }
   ],
   "execution_count": 10
  },
  {
   "metadata": {},
   "cell_type": "markdown",
   "source": [
    "## Part B: Merging DataFrames\n",
    "1. Merge the US and Israeli interest rates DataFrames on Year and Month.\n",
    "\n",
    "2. In the merged DataFrame, create a new column Rate_Difference that shows the difference between the Israeli and US interest rates for each month.\n",
    "\n",
    "3. Identify all months when the Israeli interest rate was at least 1% higher than the US interest rate - IH (Israeli Higher).\n",
    "Identify all months when the US interest rate was at least 1% higher than the Israeli interest rate - UH (US Higher).\n",
    "Identify all months when the interest rates were within 1% of each other - N (Near)\n",
    "make a new column called Rate_Comparison with the following values: IH, UH, or N.\n",
    "\n",
    "4. Merge the exchange rate DataFrame with the merged interest rates DataFrame.\n",
    "\n",
    "5. After merging all three DataFrames, find the correlation between the Rate_Difference and the Current_Rate of the exchange rate.\n",
    "hint: find the connection between the difference in interest rates and the exchange rates, use any method you think is appropriate.\n",
    "provide an explanation of the results (in Hebrew) - at least 2 rows of text + a proof of the connection(some output) you found.\n"
   ],
   "id": "37324394ba9e1454"
  },
  {
   "metadata": {
    "ExecuteTime": {
     "end_time": "2024-11-11T13:19:03.956965Z",
     "start_time": "2024-11-11T13:19:03.944482Z"
    }
   },
   "cell_type": "code",
   "source": [
    "# B - 1\n",
    "merged_df = pd.merge(df_US_rates, df_IL_rates, on=['Year', 'Month'], suffixes=('_US', '_IL'))\n",
    "merged_df.head()"
   ],
   "id": "f6fcdba8d4d32d73",
   "outputs": [
    {
     "data": {
      "text/plain": [
       "   Year  Month  Current_Rate_US  Change_From_Last_Month_US  Current_Rate_IL  \\\n",
       "0  2023     12           3.6008                        NaN             4.75   \n",
       "1  2023     11           3.7231                     0.1223             4.75   \n",
       "2  2023     10           4.0369                     0.3138             4.75   \n",
       "3  2023      9           3.8080                    -0.2289             4.75   \n",
       "4  2023      8           3.8009                    -0.0071             4.75   \n",
       "\n",
       "   Change_From_Last_Month_IL  Change_Percentage  \n",
       "0                        0.0                0.0  \n",
       "1                        0.0                0.0  \n",
       "2                        0.0                0.0  \n",
       "3                        0.0                0.0  \n",
       "4                        0.0                0.0  "
      ],
      "text/html": [
       "<div>\n",
       "<style scoped>\n",
       "    .dataframe tbody tr th:only-of-type {\n",
       "        vertical-align: middle;\n",
       "    }\n",
       "\n",
       "    .dataframe tbody tr th {\n",
       "        vertical-align: top;\n",
       "    }\n",
       "\n",
       "    .dataframe thead th {\n",
       "        text-align: right;\n",
       "    }\n",
       "</style>\n",
       "<table border=\"1\" class=\"dataframe\">\n",
       "  <thead>\n",
       "    <tr style=\"text-align: right;\">\n",
       "      <th></th>\n",
       "      <th>Year</th>\n",
       "      <th>Month</th>\n",
       "      <th>Current_Rate_US</th>\n",
       "      <th>Change_From_Last_Month_US</th>\n",
       "      <th>Current_Rate_IL</th>\n",
       "      <th>Change_From_Last_Month_IL</th>\n",
       "      <th>Change_Percentage</th>\n",
       "    </tr>\n",
       "  </thead>\n",
       "  <tbody>\n",
       "    <tr>\n",
       "      <th>0</th>\n",
       "      <td>2023</td>\n",
       "      <td>12</td>\n",
       "      <td>3.6008</td>\n",
       "      <td>NaN</td>\n",
       "      <td>4.75</td>\n",
       "      <td>0.0</td>\n",
       "      <td>0.0</td>\n",
       "    </tr>\n",
       "    <tr>\n",
       "      <th>1</th>\n",
       "      <td>2023</td>\n",
       "      <td>11</td>\n",
       "      <td>3.7231</td>\n",
       "      <td>0.1223</td>\n",
       "      <td>4.75</td>\n",
       "      <td>0.0</td>\n",
       "      <td>0.0</td>\n",
       "    </tr>\n",
       "    <tr>\n",
       "      <th>2</th>\n",
       "      <td>2023</td>\n",
       "      <td>10</td>\n",
       "      <td>4.0369</td>\n",
       "      <td>0.3138</td>\n",
       "      <td>4.75</td>\n",
       "      <td>0.0</td>\n",
       "      <td>0.0</td>\n",
       "    </tr>\n",
       "    <tr>\n",
       "      <th>3</th>\n",
       "      <td>2023</td>\n",
       "      <td>9</td>\n",
       "      <td>3.8080</td>\n",
       "      <td>-0.2289</td>\n",
       "      <td>4.75</td>\n",
       "      <td>0.0</td>\n",
       "      <td>0.0</td>\n",
       "    </tr>\n",
       "    <tr>\n",
       "      <th>4</th>\n",
       "      <td>2023</td>\n",
       "      <td>8</td>\n",
       "      <td>3.8009</td>\n",
       "      <td>-0.0071</td>\n",
       "      <td>4.75</td>\n",
       "      <td>0.0</td>\n",
       "      <td>0.0</td>\n",
       "    </tr>\n",
       "  </tbody>\n",
       "</table>\n",
       "</div>"
      ]
     },
     "execution_count": 11,
     "metadata": {},
     "output_type": "execute_result"
    }
   ],
   "execution_count": 11
  },
  {
   "metadata": {},
   "cell_type": "code",
   "source": [
    "# B - 2\n",
    "merged_df['Rate_Difference'] = merged_df['Current_Rate_IL'] - merged_df['Current_Rate_US']\n",
    "merged_df.head()"
   ],
   "id": "7f18978fee56c6d6",
   "outputs": [],
   "execution_count": null
  },
  {
   "metadata": {},
   "cell_type": "code",
   "source": [
    "# B - 3\n",
    "merged_df['Rate_Comparison'] = merged_df['Rate_Difference'].apply(\n",
    "    lambda x: 'IH' if x >= 1 else ('UH' if x <= -1 else 'N')\n",
    ")\n",
    "merged_df.head()"
   ],
   "id": "c6dcf835650149bf",
   "outputs": [],
   "execution_count": null
  },
  {
   "metadata": {},
   "cell_type": "code",
   "source": [
    "# B - 4\n",
    "final_df = pd.merge(merged_df, df_ex_DTS, on=['Year', 'Month'], how='left', suffixes=('', '_Exchange'))\n",
    "final_df.head()\n"
   ],
   "id": "3145d351d7cbe982",
   "outputs": [],
   "execution_count": null
  },
  {
   "metadata": {},
   "cell_type": "code",
   "source": [
    "# B - 5\n",
    "correlation = final_df['Rate_Difference'].corr(final_df['Current_Rate'])\n",
    "\n",
    "print(correlation)\n"
   ],
   "id": "fe04eba74c68ab35",
   "outputs": [],
   "execution_count": null
  },
  {
   "metadata": {},
   "cell_type": "markdown",
   "source": [
    "## Part C: Analyzing Relationships Between DataFrames\n",
    "1. Analyze whether increases in US interest rates are associated with increases or decreases in the USD to ILS exchange rate in the same month.\n",
    "\n",
    "2. Determine if changes in the Israeli interest rate have a stronger impact on the exchange rate than changes in the US interest rate.\n",
    "\n",
    "3. Find any time lags in the effect of interest rate changes on the exchange rate. For example, does a change in US interest rates affect the exchange rate in the following month?\n",
    "(כלומר- האם כשיש שינוי בריבית כלשהי - האם מייד יש שינוי בשער ההמרה? או שיש דיליי של חודש/חודשים עד שמרגישים את ההשפעה - אם בכלל?)\n",
    "\n",
    "4. Calculate the rolling past 3-month average of the exchange rate for each data time, and add it as a new column.\n",
    "\n",
    "5. Identify any periods where both US and Israeli interest rates were decreasing, and analyze how the exchange rate behaved during those periods.\n",
    "\n"
   ],
   "id": "22213f81bdf06965"
  },
  {
   "metadata": {},
   "cell_type": "code",
   "source": "# Bonus ",
   "id": "706a690fd803211c",
   "outputs": [],
   "execution_count": null
  },
  {
   "metadata": {},
   "cell_type": "markdown",
   "source": [
    "# Bonus\n",
    "choose 3 global / local events or periods that you think could have affected the exchange rate or interest rates\n",
    "and analyze the effect of these events on the data you collected.\n",
    "show proof of your analysis that supports your claim.\n",
    "\n",
    "(כלומר- תבחנו אירועים שקרו בתקופה שאתם עובדים עליה ובדקו איך הם השפיעו על הנתונים שאתם עובדים איתם)\n",
    "למשל: בחירות בארה״ב, בחירות בישראל, רוסיה אוקראינה, מלחמות בישראל וכו׳."
   ],
   "id": "8be22debf92d8f3a"
  },
  {
   "metadata": {},
   "cell_type": "code",
   "source": "# Your code here",
   "id": "7cd992b43f3700e8",
   "outputs": [],
   "execution_count": null
  }
 ],
 "metadata": {
  "kernelspec": {
   "display_name": "Python 3",
   "language": "python",
   "name": "python3"
  },
  "language_info": {
   "codemirror_mode": {
    "name": "ipython",
    "version": 2
   },
   "file_extension": ".py",
   "mimetype": "text/x-python",
   "name": "python",
   "nbconvert_exporter": "python",
   "pygments_lexer": "ipython2",
   "version": "2.7.6"
  }
 },
 "nbformat": 4,
 "nbformat_minor": 5
}
